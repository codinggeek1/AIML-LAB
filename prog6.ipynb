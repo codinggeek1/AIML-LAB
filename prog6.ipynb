{
 "cells": [
  {
   "cell_type": "code",
   "execution_count": 1,
   "id": "93e83d81",
   "metadata": {
    "id": "93e83d81"
   },
   "outputs": [
    {
     "ename": "ModuleNotFoundError",
     "evalue": "No module named 'numpy'",
     "output_type": "error",
     "traceback": [
      "\u001b[0;31m---------------------------------------------------------------------------\u001b[0m",
      "\u001b[0;31mModuleNotFoundError\u001b[0m                       Traceback (most recent call last)",
      "Cell \u001b[0;32mIn[1], line 1\u001b[0m\n\u001b[0;32m----> 1\u001b[0m \u001b[38;5;28;01mimport\u001b[39;00m \u001b[38;5;21;01mnumpy\u001b[39;00m \u001b[38;5;28;01mas\u001b[39;00m \u001b[38;5;21;01mnp\u001b[39;00m\n\u001b[1;32m      2\u001b[0m \u001b[38;5;28;01mimport\u001b[39;00m \u001b[38;5;21;01mpandas\u001b[39;00m \u001b[38;5;28;01mas\u001b[39;00m \u001b[38;5;21;01mpd\u001b[39;00m\n\u001b[1;32m      3\u001b[0m \u001b[38;5;28;01mfrom\u001b[39;00m \u001b[38;5;21;01msklearn\u001b[39;00m\u001b[38;5;21;01m.\u001b[39;00m\u001b[38;5;21;01mmodel_selection\u001b[39;00m \u001b[38;5;28;01mimport\u001b[39;00m train_test_split\n",
      "\u001b[0;31mModuleNotFoundError\u001b[0m: No module named 'numpy'"
     ]
    }
   ],
   "source": [
    "import numpy as np\n",
    "import pandas as pd\n",
    "from sklearn.model_selection import train_test_split\n",
    "from sklearn.metrics import accuracy_score,precision_score,f1_score,recall_score\n",
    "def read_data(file_path):\n",
    "    return pd.read_csv(file_path)\n"
   ]
  },
  {
   "cell_type": "code",
   "execution_count": 2,
   "id": "5333797c",
   "metadata": {
    "id": "5333797c"
   },
   "outputs": [],
   "source": [
    "class NaiveBayes():\n",
    "    def __init__(self):\n",
    "        self.class_prob={}\n",
    "        self.features_prob={}\n",
    "\n",
    "\n",
    "    def fit(self,X_train,Y_train):\n",
    "        classes,counts=np.unique(Y_train,return_counts=True)\n",
    "        total_samples=len(Y_train)\n",
    "        for c,count in zip(classes,counts):\n",
    "            self.class_prob[c]=count/total_samples\n",
    "        self.features_prob={}\n",
    "        for c in classes:\n",
    "            self.features_prob[c]={}\n",
    "            for feature in X_train.columns:\n",
    "                unique_values=X_train[feature].unique()\n",
    "                self.features_prob[c][feature]={}\n",
    "                for value in unique_values:\n",
    "                    count = np.sum((X_train[feature] == value) & (Y_train == c))\n",
    "                    self.features_prob[c][feature][value] = count / counts[c]\n",
    "\n",
    "\n",
    "    def predict(self,X_test):\n",
    "        predictions=[]\n",
    "        for _,row in X_test.iterrows():\n",
    "            max_prob=-1\n",
    "            predicted_class=None\n",
    "            for c in self.class_prob:\n",
    "                prob = self.class_prob[c]\n",
    "                for feature, value in row.items():\n",
    "                    if value in self.features_prob[c][feature]:\n",
    "                        prob *= self.features_prob[c][feature][value]\n",
    "                    else:\n",
    "                        prob *= 0\n",
    "                if prob > max_prob:\n",
    "                    max_prob = prob\n",
    "                    predicted_class = c\n",
    "                predictions.append(predicted_class)\n",
    "        return predictions\n"
   ]
  },
  {
   "cell_type": "code",
   "execution_count": 4,
   "id": "4aeda141",
   "metadata": {
    "id": "4aeda141"
   },
   "outputs": [],
   "source": [
    "data = read_data(\"Social_Network_Ads.csv\")\n",
    "X = data.iloc[:,1:4]\n",
    "y = data['Purchased']\n",
    "X_train,X_test,Y_train,Y_test=train_test_split(X,y,test_size=0.2,random_state=0)\n",
    "model=NaiveBayes()\n",
    "model.fit(X_train,Y_train)\n",
    "Y_pred=model.predict(X_test)"
   ]
  },
  {
   "cell_type": "code",
   "execution_count": null,
   "id": "28b941a4",
   "metadata": {
    "id": "28b941a4"
   },
   "outputs": [],
   "source": []
  }
 ],
 "metadata": {
  "colab": {
   "provenance": []
  },
  "kernelspec": {
   "display_name": "Python 3 (ipykernel)",
   "language": "python",
   "name": "python3"
  },
  "language_info": {
   "codemirror_mode": {
    "name": "ipython",
    "version": 3
   },
   "file_extension": ".py",
   "mimetype": "text/x-python",
   "name": "python",
   "nbconvert_exporter": "python",
   "pygments_lexer": "ipython3",
   "version": "3.9.6"
  }
 },
 "nbformat": 4,
 "nbformat_minor": 5
}
