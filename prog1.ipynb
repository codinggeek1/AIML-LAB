{
 "cells": [
  {
   "cell_type": "code",
   "execution_count": 1,
   "id": "c0d3df87-7ee2-4a3e-b715-3d6311065c91",
   "metadata": {},
   "outputs": [
    {
     "name": "stdout",
     "output_type": "stream",
     "text": [
      "  |   |  \n",
      "---------\n",
      "  |   |  \n",
      "---------\n",
      "  |   |  \n",
      "---------\n"
     ]
    },
    {
     "name": "stdin",
     "output_type": "stream",
     "text": [
      "Enter your move (row and column, separated by space):  0 0\n"
     ]
    },
    {
     "name": "stdout",
     "output_type": "stream",
     "text": [
      "Computer's move:\n",
      "X |   |  \n",
      "---------\n",
      "  | O |  \n",
      "---------\n",
      "  |   |  \n",
      "---------\n"
     ]
    },
    {
     "name": "stdin",
     "output_type": "stream",
     "text": [
      "Enter your move (row and column, separated by space):  0 1\n"
     ]
    },
    {
     "name": "stdout",
     "output_type": "stream",
     "text": [
      "Computer's move:\n",
      "X | X | O\n",
      "---------\n",
      "  | O |  \n",
      "---------\n",
      "  |   |  \n",
      "---------\n"
     ]
    },
    {
     "name": "stdin",
     "output_type": "stream",
     "text": [
      "Enter your move (row and column, separated by space):  1 1\n"
     ]
    },
    {
     "name": "stdout",
     "output_type": "stream",
     "text": [
      "Invalid move. Try again.\n",
      "X | X | O\n",
      "---------\n",
      "  | O |  \n",
      "---------\n",
      "  |   |  \n",
      "---------\n"
     ]
    },
    {
     "name": "stdin",
     "output_type": "stream",
     "text": [
      "Enter your move (row and column, separated by space):  1 2\n"
     ]
    },
    {
     "name": "stdout",
     "output_type": "stream",
     "text": [
      "Computer's move:\n",
      "X | X | O\n",
      "---------\n",
      "  | O | X\n",
      "---------\n",
      "O |   |  \n",
      "---------\n",
      "Computer wins!\n"
     ]
    }
   ],
   "source": [
    "def is_winner(board, player):\n",
    "    # Check rows, columns, and diagonals for a win\n",
    "    for i in range(3):\n",
    "        if all(board[i][j] == player for j in range(3)) or \\\n",
    "           all(board[j][i] == player for j in range(3)):\n",
    "            return True\n",
    "    if all(board[i][i] == player for i in range(3)) or \\\n",
    "       all(board[i][2 - i] == player for i in range(3)):\n",
    "        return True\n",
    "    return False\n",
    "\n",
    "def is_full(board):\n",
    "    # Check if the board is full\n",
    "    return all(board[i][j] != ' ' for i in range(3) for j in range(3))\n",
    "\n",
    "def minimax(board, depth, is_maximizing):\n",
    "    # Base cases\n",
    "    if is_winner(board, 'X'):\n",
    "        return -1\n",
    "    if is_winner(board, 'O'):\n",
    "        return 1\n",
    "    if is_full(board):\n",
    "        return 0\n",
    "\n",
    "    # Recursive case\n",
    "    if is_maximizing:\n",
    "        max_eval = float('-inf')\n",
    "        for i in range(3):\n",
    "            for j in range(3):\n",
    "                if board[i][j] == ' ':\n",
    "                    board[i][j] = 'O'\n",
    "                    eval = minimax(board, depth + 1, False)\n",
    "                    board[i][j] = ' '  # Undo the move\n",
    "                    max_eval = max(max_eval, eval)\n",
    "        return max_eval\n",
    "    else:\n",
    "        min_eval = float('inf')\n",
    "        for i in range(3):\n",
    "            for j in range(3):\n",
    "                if board[i][j] == ' ':\n",
    "                    board[i][j] = 'X'\n",
    "                    eval = minimax(board, depth + 1, True)\n",
    "                    board[i][j] = ' '  # Undo the move\n",
    "                    min_eval = min(min_eval, eval)\n",
    "        return min_eval\n",
    "\n",
    "def find_best_move(board):\n",
    "    best_val = float('-inf')\n",
    "    best_move = (-1, -1)\n",
    "\n",
    "    for i in range(3):\n",
    "        for j in range(3):\n",
    "            if board[i][j] == ' ':\n",
    "                board[i][j] = 'O'\n",
    "                move_val = minimax(board, 0, False)\n",
    "                board[i][j] = ' '  # Undo the move\n",
    "\n",
    "                if move_val > best_val:\n",
    "                    best_move = (i, j)\n",
    "                    best_val = move_val\n",
    "\n",
    "    return best_move\n",
    "\n",
    "def print_board(board):\n",
    "    for row in board:\n",
    "        print(\" | \".join(row))\n",
    "        print(\"---------\")\n",
    "\n",
    "def main():\n",
    "    board = [[' ' for _ in range(3)] for _ in range(3)]\n",
    "\n",
    "    while True:\n",
    "        print_board(board)\n",
    "        row, col = map(int, input(\"Enter your move (row and column, separated by space): \").split())\n",
    "        if board[row][col] == ' ':\n",
    "            board[row][col] = 'X'\n",
    "        else:\n",
    "            print(\"Invalid move. Try again.\")\n",
    "            continue\n",
    "\n",
    "        if is_winner(board, 'X'):\n",
    "            print(\"You win!\")\n",
    "            break\n",
    "        elif is_full(board):\n",
    "            print(\"It's a draw!\")\n",
    "            break\n",
    "\n",
    "        print(\"Computer's move:\")\n",
    "        comp_row, comp_col = find_best_move(board)\n",
    "        board[comp_row][comp_col] = 'O'\n",
    "\n",
    "        if is_winner(board, 'O'):\n",
    "            print_board(board)\n",
    "            print(\"Computer wins!\")\n",
    "            break\n",
    "        elif is_full(board):\n",
    "            print(\"It's a draw!\")\n",
    "            break\n",
    "\n",
    "if __name__ == \"__main__\":\n",
    "    main()\n",
    "\n"
   ]
  },
  {
   "cell_type": "code",
   "execution_count": null,
   "id": "682a0931-3c63-4e74-9a8a-9f3b24ac262e",
   "metadata": {},
   "outputs": [],
   "source": []
  }
 ],
 "metadata": {
  "kernelspec": {
   "display_name": "Python 3 (ipykernel)",
   "language": "python",
   "name": "python3"
  },
  "language_info": {
   "codemirror_mode": {
    "name": "ipython",
    "version": 3
   },
   "file_extension": ".py",
   "mimetype": "text/x-python",
   "name": "python",
   "nbconvert_exporter": "python",
   "pygments_lexer": "ipython3",
   "version": "3.11.7"
  }
 },
 "nbformat": 4,
 "nbformat_minor": 5
}
