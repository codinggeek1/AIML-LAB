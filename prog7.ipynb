{
 "cells": [
  {
   "cell_type": "code",
   "execution_count": 1,
   "id": "2c795a73",
   "metadata": {
    "id": "2c795a73"
   },
   "outputs": [],
   "source": [
    "import numpy as np\n",
    "import pandas as pd"
   ]
  },
  {
   "cell_type": "code",
   "execution_count": 2,
   "id": "28c5f098",
   "metadata": {
    "id": "28c5f098"
   },
   "outputs": [],
   "source": [
    "def euclidean_distance(x1,x2):\n",
    "    return np.sqrt(np.sum((x1-x2)**2))"
   ]
  },
  {
   "cell_type": "code",
   "execution_count": 3,
   "id": "a59c3217",
   "metadata": {
    "id": "a59c3217"
   },
   "outputs": [],
   "source": [
    "class KNN:\n",
    "    def __init__(self,k=3):\n",
    "        self.k=k\n",
    "\n",
    "    def fit(self,x,y):\n",
    "        self.x=x\n",
    "        self.y=y\n",
    "\n",
    "    def predict_single(self, x):\n",
    "    # Calculate distances between x and all points in the training set\n",
    "      distances = []\n",
    "      for x_train in self.x:\n",
    "          distance = euclidean_distance(x, x_train)\n",
    "          distances.append(distance)\n",
    "\n",
    "      # Sort distances in ascending order and get corresponding indices\n",
    "      sorted_indices = np.argsort(distances)\n",
    "\n",
    "      # Select the indices of the k nearest neighbors\n",
    "      k_nearest_indices = sorted_indices[:self.k]\n",
    "\n",
    "      # Extract labels of k nearest neighbors\n",
    "      k_nearest_labels = []\n",
    "      for index in k_nearest_indices:\n",
    "          label = self.y[index]\n",
    "          k_nearest_labels.append(label)\n",
    "\n",
    "      # Predict the label based on the majority class among the k nearest neighbors\n",
    "      predicted_label = np.argmax(np.bincount(k_nearest_labels))\n",
    "\n",
    "      return predicted_label\n",
    "\n",
    "\n",
    "    def predict(self, x_test):\n",
    "      # Generate predictions for multiple data points in the test set\n",
    "      predicted_labels = []\n",
    "\n",
    "      for x in x_test:\n",
    "        predicted_labels.append(self.predict_single(x))\n",
    "\n",
    "      # Convert the list of predicted labels into a numpy array\n",
    "      predicted_labels_array = np.array(predicted_labels)\n",
    "\n",
    "      # Return the array of predicted labels\n",
    "      return predicted_labels_array"
   ]
  },
  {
   "cell_type": "code",
   "execution_count": 4,
   "id": "4f23fd4c",
   "metadata": {
    "colab": {
     "base_uri": "https://localhost:8080/",
     "height": 206
    },
    "id": "4f23fd4c",
    "outputId": "9999f6bd-2020-45d1-9c57-47331c8200c8"
   },
   "outputs": [
    {
     "data": {
      "text/html": [
       "<div>\n",
       "<style scoped>\n",
       "    .dataframe tbody tr th:only-of-type {\n",
       "        vertical-align: middle;\n",
       "    }\n",
       "\n",
       "    .dataframe tbody tr th {\n",
       "        vertical-align: top;\n",
       "    }\n",
       "\n",
       "    .dataframe thead th {\n",
       "        text-align: right;\n",
       "    }\n",
       "</style>\n",
       "<table border=\"1\" class=\"dataframe\">\n",
       "  <thead>\n",
       "    <tr style=\"text-align: right;\">\n",
       "      <th></th>\n",
       "      <th>sepallength</th>\n",
       "      <th>sepalwidth</th>\n",
       "      <th>petallength</th>\n",
       "      <th>petalwidth</th>\n",
       "      <th>class</th>\n",
       "    </tr>\n",
       "  </thead>\n",
       "  <tbody>\n",
       "    <tr>\n",
       "      <th>0</th>\n",
       "      <td>5.1</td>\n",
       "      <td>3.5</td>\n",
       "      <td>1.4</td>\n",
       "      <td>0.2</td>\n",
       "      <td>Iris-setosa</td>\n",
       "    </tr>\n",
       "    <tr>\n",
       "      <th>1</th>\n",
       "      <td>4.9</td>\n",
       "      <td>3.0</td>\n",
       "      <td>1.4</td>\n",
       "      <td>0.2</td>\n",
       "      <td>Iris-setosa</td>\n",
       "    </tr>\n",
       "    <tr>\n",
       "      <th>2</th>\n",
       "      <td>4.7</td>\n",
       "      <td>3.2</td>\n",
       "      <td>1.3</td>\n",
       "      <td>0.2</td>\n",
       "      <td>Iris-setosa</td>\n",
       "    </tr>\n",
       "    <tr>\n",
       "      <th>3</th>\n",
       "      <td>4.6</td>\n",
       "      <td>3.1</td>\n",
       "      <td>1.5</td>\n",
       "      <td>0.2</td>\n",
       "      <td>Iris-setosa</td>\n",
       "    </tr>\n",
       "    <tr>\n",
       "      <th>4</th>\n",
       "      <td>5.0</td>\n",
       "      <td>3.6</td>\n",
       "      <td>1.4</td>\n",
       "      <td>0.2</td>\n",
       "      <td>Iris-setosa</td>\n",
       "    </tr>\n",
       "  </tbody>\n",
       "</table>\n",
       "</div>"
      ],
      "text/plain": [
       "   sepallength  sepalwidth  petallength  petalwidth        class\n",
       "0          5.1         3.5          1.4         0.2  Iris-setosa\n",
       "1          4.9         3.0          1.4         0.2  Iris-setosa\n",
       "2          4.7         3.2          1.3         0.2  Iris-setosa\n",
       "3          4.6         3.1          1.5         0.2  Iris-setosa\n",
       "4          5.0         3.6          1.4         0.2  Iris-setosa"
      ]
     },
     "execution_count": 4,
     "metadata": {},
     "output_type": "execute_result"
    }
   ],
   "source": [
    "df=pd.read_csv('iris_csv.csv')\n",
    "df.head()"
   ]
  },
  {
   "cell_type": "code",
   "execution_count": 5,
   "id": "f5c8adb4",
   "metadata": {
    "id": "f5c8adb4"
   },
   "outputs": [],
   "source": [
    "x=df.iloc[:,:-1].values\n",
    "y=df.iloc[:,-1].values\n",
    "# x"
   ]
  },
  {
   "cell_type": "code",
   "execution_count": 17,
   "id": "2ac14d24",
   "metadata": {
    "id": "2ac14d24"
   },
   "outputs": [],
   "source": [
    "# x"
   ]
  },
  {
   "cell_type": "code",
   "execution_count": 8,
   "id": "b9330acb",
   "metadata": {
    "id": "b9330acb"
   },
   "outputs": [],
   "source": [
    "c=1\n",
    "d={'Iris-versicolor':1, 'Iris-virginica':2, 'Iris-setosa':3}\n",
    "for i in range(len(y)):\n",
    "    y[i]=d[y[i]]"
   ]
  },
  {
   "cell_type": "code",
   "execution_count": 9,
   "id": "efc63db8",
   "metadata": {
    "colab": {
     "base_uri": "https://localhost:8080/"
    },
    "id": "efc63db8",
    "outputId": "c7f0b49c-cc5f-4a6d-ab96-793882bbf477"
   },
   "outputs": [
    {
     "name": "stdout",
     "output_type": "stream",
     "text": [
      "{1, 2, 3}\n"
     ]
    }
   ],
   "source": [
    "print(set(y))"
   ]
  },
  {
   "cell_type": "code",
   "execution_count": 10,
   "id": "95eee34e",
   "metadata": {
    "id": "95eee34e"
   },
   "outputs": [],
   "source": [
    "from sklearn.model_selection import train_test_split\n",
    "x_train,x_test,y_train,y_test=train_test_split(x,y,test_size=0.2,random_state=7)"
   ]
  },
  {
   "cell_type": "code",
   "execution_count": 11,
   "id": "4d47a295",
   "metadata": {
    "id": "4d47a295"
   },
   "outputs": [],
   "source": [
    "model=KNN()\n",
    "model.fit(x_train,y_train)"
   ]
  },
  {
   "cell_type": "code",
   "execution_count": 12,
   "id": "116ad029",
   "metadata": {
    "id": "116ad029"
   },
   "outputs": [],
   "source": [
    "y_pred=model.predict(x_test)"
   ]
  },
  {
   "cell_type": "code",
   "execution_count": 13,
   "id": "6d5209b3",
   "metadata": {
    "colab": {
     "base_uri": "https://localhost:8080/"
    },
    "id": "6d5209b3",
    "outputId": "05fcbaa1-a4f3-4a14-b2ab-70f91d73dd4f"
   },
   "outputs": [
    {
     "name": "stdout",
     "output_type": "stream",
     "text": [
      "accuracy:  0.8666666666666667\n",
      "precision:  0.8838383838383838\n",
      "recall:  0.8838383838383838\n",
      "f1 score:  0.8838383838383838\n"
     ]
    }
   ],
   "source": [
    "from sklearn.metrics import accuracy_score, precision_score, recall_score, f1_score\n",
    "print(\"accuracy: \", accuracy_score(list(y_test), list(y_pred)))\n",
    "print(\"precision: \", precision_score(list(y_test), list(y_pred), average='macro'))\n",
    "print(\"recall: \", recall_score(list(y_test), list(y_pred), average='macro'))\n",
    "print(\"f1 score: \", f1_score(list(y_test), list(y_pred), average='macro'))"
   ]
  },
  {
   "cell_type": "code",
   "execution_count": 14,
   "id": "f05ad9a7",
   "metadata": {
    "colab": {
     "base_uri": "https://localhost:8080/"
    },
    "id": "f05ad9a7",
    "outputId": "d48f5de6-4933-4f5d-ed79-245933c9d2f8"
   },
   "outputs": [
    {
     "name": "stdout",
     "output_type": "stream",
     "text": [
      "Accuracy on 10 random data points: 0.8\n"
     ]
    }
   ],
   "source": [
    "np.random.seed(42)  # Set seed for reproducibility\n",
    "random_indices = np.random.choice(len(x_test), 10, replace=False)\n",
    "\n",
    "# random_indices = np.random.randint(df.shape[0])\n",
    "\n",
    "# Select 10 random data points from the test set\n",
    "random_x_test = x_test[random_indices]\n",
    "random_y_test = y_test[random_indices]\n",
    "\n",
    "# Predict labels for the random data points\n",
    "random_y_pred = model.predict(random_x_test)\n",
    "\n",
    "# Calculate accuracy score\n",
    "accuracy = accuracy_score(list(random_y_test), list(random_y_pred))\n",
    "print(\"Accuracy on 10 random data points:\", accuracy)"
   ]
  },
  {
   "cell_type": "code",
   "execution_count": 211,
   "id": "TnoyFjYpWlvc",
   "metadata": {
    "id": "TnoyFjYpWlvc"
   },
   "outputs": [],
   "source": []
  }
 ],
 "metadata": {
  "colab": {
   "provenance": []
  },
  "kernelspec": {
   "display_name": "Python 3 (ipykernel)",
   "language": "python",
   "name": "python3"
  },
  "language_info": {
   "codemirror_mode": {
    "name": "ipython",
    "version": 3
   },
   "file_extension": ".py",
   "mimetype": "text/x-python",
   "name": "python",
   "nbconvert_exporter": "python",
   "pygments_lexer": "ipython3",
   "version": "3.11.7"
  }
 },
 "nbformat": 4,
 "nbformat_minor": 5
}
